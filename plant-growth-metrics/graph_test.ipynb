{
 "cells": [
  {
   "cell_type": "code",
   "execution_count": null,
   "id": "e039b611-d4be-4574-8f17-6c8033f4a4fb",
   "metadata": {},
   "outputs": [],
   "source": [
    "import pandas as pd\n",
    "import matplotlib\n",
    "matplotlib.use('Agg')\n",
    "%matplotlib inline\n",
    "import matplotlib.pyplot as plt\n",
    "import numpy as np\n",
    "import seaborn as sns\n",
    "import statsmodels.api as sm\n",
    "plt.style.use('fivethirtyeight')"
   ]
  },
  {
   "cell_type": "markdown",
   "id": "639997fe-1399-48ea-ab75-50c1e9f1b238",
   "metadata": {},
   "source": [
    "# Russell Ranch - Plant Growth Metrics"
   ]
  },
  {
   "cell_type": "code",
   "execution_count": null,
   "id": "69b12bb6-234f-4cec-b80c-8899846670db",
   "metadata": {},
   "outputs": [],
   "source": [
    "# Survived data\n",
    "all_plant_growth_df = pd.read_csv('Plant_Growth_Metrics.csv')\n",
    "\n",
    "survived_plant_growth_df = all_plant_growth_df[all_plant_growth_df['seed_survival'] > 0]\n",
    "\n",
    "all_plant_growth_df['seed_survival_rate'] = all_plant_growth_df['seed_survival_rate'] * 100\n",
    "survived_plant_growth_df['seed_survival_rate'] = survived_plant_growth_df['seed_survival_rate'] * 100\n",
    "\n",
    "all_plant_growth_df['shoot_length_cm'] = all_plant_growth_df['shoot_length_cm'].fillna(0)\n",
    "all_plant_growth_df['num_spikelets'] = all_plant_growth_df['num_spikelets'].fillna(0)"
   ]
  },
  {
   "cell_type": "code",
   "execution_count": null,
   "id": "695d64bc-0219-4a27-9bbf-ba49ceffc729",
   "metadata": {},
   "outputs": [],
   "source": [
    "def plot_plant_growth(dataframe, data_label, title, x_label, y_label):\n",
    "    sns.boxplot(x='treatment', y=data_label, data=dataframe, hue='soil')\n",
    "    plt.title(title)\n",
    "    plt.xlabel(x_label)\n",
    "    plt.ylabel(y_label)\n",
    "    plt.show()"
   ]
  },
  {
   "cell_type": "code",
   "execution_count": null,
   "id": "4a46a6e5-a496-46cb-b488-6fe187cd13db",
   "metadata": {},
   "outputs": [],
   "source": [
    "# Seed survival could only be 0, 0.25, 0.5, 0.75, or 1, so graph doesn't seem very useful.\n",
    "# plt.ylim(-10, 110)\n",
    "# plt.yticks(range(0, 110, 25))\n",
    "plot_plant_growth(all_plant_growth_df, 'seed_survival_rate', 'Seed Survival Rate per pot by Treatment', 'Treatment', 'Seed Survival %')\n",
    "\n",
    "# Shoot length by treatment plot\n",
    "plot_plant_growth(survived_plant_growth_df, 'shoot_length_cm', 'Shoot Length by Treatment (Only survived seeds)', 'Treatment', 'Shoot Length (cm)')\n",
    "\n",
    "\n",
    "# Not very significant data\n",
    "plot_plant_growth(survived_plant_growth_df, 'num_spikelets', 'Spikelet Count by Treatment (Only survived seeds)', 'Treatment', 'Spikelet Count')\n",
    "\n",
    "\n",
    "# Root length + biomass in manteca has null values. think of how to address\n",
    "# plot_plant_growth('root_length_cm', 'Root Length by Treatment', 'Treatment', 'Root Length (cm)')\n",
    "# plot_plant_growth('shoot_root_biomass_g', 'Root + Shoot Biomass by Treatment', 'Treatment', 'Root + Shoot Biomass')"
   ]
  },
  {
   "cell_type": "code",
   "execution_count": null,
   "id": "c24cf7a7-0fee-44d0-b72a-62032616d238",
   "metadata": {},
   "outputs": [],
   "source": [
    "chem_properties_df = pd.read_csv('Chemical_Properties.csv')\n",
    "\n",
    "chem_properties_df['category'] = chem_properties_df['Soil'] + '_' + chem_properties_df['Treatment']\n",
    "\n",
    "RR_chem_properties_df = chem_properties_df[chem_properties_df['Soil'] == \"Russell Ranch\"].dropna()\n",
    "Man_chem_properties_df = chem_properties_df[chem_properties_df['Soil'] == \"Manteca\"].dropna()\n",
    "t0_chem_properties_df = chem_properties_df[chem_properties_df['Time'] == \"T0\"].dropna()\n",
    "end_chem_properties_df = chem_properties_df[chem_properties_df['Time'] == \"end\"].dropna()\n",
    "# RR_ph_averages_df = RR_chem_properties_df[['Treatment', 'pH', 'Time']]\n",
    "# RR_ph_averages_df.groupby(['Treatment', 'Time']).mean()\n",
    "# RR_ph_diffs_df = RR_ph_averages_df['Treatment']"
   ]
  },
  {
   "cell_type": "code",
   "execution_count": null,
   "id": "9c7b5ce4-0e64-48d2-8972-ffb484091ff1",
   "metadata": {},
   "outputs": [],
   "source": [
    "def plot_chem_properties(data_label, title, x_label, y_label):\n",
    "    fig, axes = plt.subplots(1, 2, figsize=(12,8))\n",
    "    \n",
    "    sns.boxplot(x='Treatment', y=data_label, data=RR_chem_properties_df, hue='Time', ax=axes[0])\n",
    "    sns.boxplot(x='Treatment', y=data_label, data=Man_chem_properties_df, hue='Time', ax=axes[1])\n",
    "    axes[0].set_title('Russell Ranch')\n",
    "    axes[1].set_title('Manteca')\n",
    "    fig.suptitle(title)\n",
    "    \n",
    "    axes[0].set_xlabel(x_label)\n",
    "    axes[0].set_ylabel(y_label)\n",
    "    \n",
    "    axes[1].set_xlabel(x_label)\n",
    "    axes[1].set_ylabel(y_label)\n",
    "    \n",
    "    axes[0].set_ylim(6.5, 9)\n",
    "    axes[1].set_ylim(6.5, 9)\n",
    "    plt.show()"
   ]
  },
  {
   "cell_type": "code",
   "execution_count": null,
   "id": "b3be08a8-861c-4c25-a0cf-b2ea333a3508",
   "metadata": {},
   "outputs": [],
   "source": [
    "def plot_ph_properties(data_label, title, x_label, y_label):\n",
    "    fig, axes = plt.subplots(1, 2, figsize=(12,8))\n",
    "    sns.boxplot(x='Treatment', y=data_label, data=t0_chem_properties_df, hue='Soil', ax=axes[0])\n",
    "    sns.boxplot(x='Treatment', y=data_label, data=end_chem_properties_df, hue='Soil', ax=axes[1])\n",
    "    axes[0].set_title('T0')\n",
    "    axes[1].set_title('9 Weeks')\n",
    "    fig.suptitle(title)\n",
    "    \n",
    "    axes[0].set_xlabel(x_label)\n",
    "    axes[0].set_ylabel(y_label)\n",
    "    \n",
    "    axes[1].set_xlabel(x_label)\n",
    "    axes[1].set_ylabel(y_label)\n",
    "\n",
    "    axes[0].set_ylim(6.5, 9)\n",
    "    axes[1].set_ylim(6.5, 9)\n",
    "    plt.show()\n",
    "\n",
    "def plot_ec_properties(data_label, title, x_label, y_label):\n",
    "    fig, axes = plt.subplots(1, 2, figsize=(12,8))\n",
    "    sns.boxplot(x='Treatment', y=data_label, data=t0_chem_properties_df, hue='Soil', ax=axes[0])\n",
    "    sns.boxplot(x='Treatment', y=data_label, data=end_chem_properties_df, hue='Soil', ax=axes[1])\n",
    "    axes[0].set_title('T0')\n",
    "    axes[1].set_title('9 Weeks')\n",
    "    fig.suptitle(title)\n",
    "    \n",
    "    axes[0].set_xlabel(x_label)\n",
    "    axes[0].set_ylabel(y_label)\n",
    "    \n",
    "    axes[1].set_xlabel(x_label)\n",
    "    axes[1].set_ylabel(y_label)\n",
    "\n",
    "    axes[0].set_ylim(-100, 1100)\n",
    "    axes[1].set_ylim(-100, 1100)\n",
    "    plt.show()"
   ]
  },
  {
   "cell_type": "code",
   "execution_count": null,
   "id": "b712cb38-cf69-4ee9-ab9f-471cb0cf8c03",
   "metadata": {},
   "outputs": [],
   "source": [
    "plot_ph_properties('pH', \"Treatment vs pH (per Soil Type), from T0 to End\", \"Treatment\", \"pH\")\n",
    "plot_ec_properties('EC (uS/cm)', \"Treatment vs Electrical Conductivity (per Soil Type), from T0 to End\", \"Treatment\", \"EC (uS/cm)\")"
   ]
  },
  {
   "cell_type": "markdown",
   "id": "c08abb95-fe64-4dd3-ad65-effb5b85314c",
   "metadata": {},
   "source": [
    "# Statistical Analysis"
   ]
  },
  {
   "cell_type": "code",
   "execution_count": null,
   "id": "046d5271-44f2-46ce-97ed-c35e01296365",
   "metadata": {},
   "outputs": [],
   "source": [
    "# Logistic Regression for soil type and treatment for seed survival (since binary)\n",
    "# Count regression for soil type and treatment for spikelet count\n",
    "# Regression for soil type and treatment for shoot length"
   ]
  },
  {
   "cell_type": "markdown",
   "id": "ec31e7b4-515a-42ab-839d-84a777331833",
   "metadata": {},
   "source": [
    "## Seed Survival Statistics"
   ]
  },
  {
   "cell_type": "code",
   "execution_count": null,
   "id": "42112fc2-f6ca-4590-b851-7ab748d1b419",
   "metadata": {},
   "outputs": [],
   "source": [
    "# Ensure categorical columns are strings (sometimes they might have mixed types)\n",
    "plant_growth_variables = all_plant_growth_df[['soil', 'treatment', 'seed_survival']]\n",
    "\n",
    "# Convert categorical variables to dummy variables (one-hot encoding)\n",
    "plant_growth_variables = pd.get_dummies(plant_growth_variables, columns=['soil', 'treatment'])\n",
    "\n",
    "print(plant_growth_variables)\n",
    "\n",
    "plant_growth_variables = plant_growth_variables.drop(['soil_Russell Ranch', 'treatment_Control'], axis=1)\n",
    "\n",
    "plant_growth_variables = plant_growth_variables.astype('int32')\n",
    "\n",
    "# Define independent variables (predictors)\n",
    "independent_variables = plant_growth_variables.drop(columns=['seed_survival'])  # Drop the dependent variable\n",
    "independent_variables = sm.add_constant(independent_variables)  # Add an intercept term\n",
    "\n",
    "\n",
    "# Define dependent variable (response)\n",
    "dependent_variable = plant_growth_variables['seed_survival']\n",
    "\n",
    "# Fit logistic regression model\n",
    "logistic_regression = sm.Logit(dependent_variable, independent_variables).fit()\n",
    "\n",
    "# Print summary\n",
    "print(logistic_regression.summary())"
   ]
  },
  {
   "cell_type": "markdown",
   "id": "2827b0c3-27ad-4707-8c37-d7fed2c19188",
   "metadata": {},
   "source": [
    "## Shoot length statistics"
   ]
  },
  {
   "cell_type": "code",
   "execution_count": null,
   "id": "bad78ce3-34b0-4826-a23d-81ff9932c9d3",
   "metadata": {},
   "outputs": [],
   "source": [
    "import statsmodels.formula.api as smf\n",
    "from statsmodels.stats.multicomp import pairwise_tukeyhsd\n",
    "\n",
    "plant_growth_variables = all_plant_growth_df[['soil', 'treatment', 'shoot_length_cm']]\n",
    "\n",
    "# FIRST ATTEMPT: CONDUCTING SHOOT LENGTH TEST AS LINEAR REGRESSION WITH 1-HOT ENCODINGS\n",
    "\n",
    "# # Convert categorical variables to dummy variables (one-hot encoding)\n",
    "# plant_growth_variables = pd.get_dummies(plant_growth_variables, columns=['soil', 'treatment'])\n",
    "\n",
    "# plant_growth_variables = plant_growth_variables.drop(['soil_Russell Ranch', 'treatment_Control'], axis=1)\n",
    "\n",
    "# plant_growth_variables = plant_growth_variables.astype('int32')\n",
    "\n",
    "# # Define independent variables (predictors)\n",
    "# independent_variables = plant_growth_variables.drop(columns=['shoot_length_cm'])  # Drop the dependent variable\n",
    "# independent_variables = sm.add_constant(independent_variables)  # Add an intercept term\n",
    "\n",
    "# # Define dependent variable (response)\n",
    "# dependent_variable = plant_growth_variables['shoot_length_cm']\n",
    "\n",
    "# result = sm.OLS(dependent_variable, independent_variables).fit()\n",
    "# print(result.summary())\n",
    "\n",
    "\n",
    "# SECOND ATTEMPT: CONDUCTING SHOOT LENGTH TEST USING 2 WAY ANOVA\n",
    "\n",
    "# Fit two-way ANOVA model\n",
    "model = smf.ols('shoot_length_cm ~ C(soil) + C(treatment) + C(soil):C(treatment)', data=plant_growth_variables).fit()\n",
    "\n",
    "# Perform ANOVA\n",
    "anova_results = sm.stats.anova_lm(model, typ=2)\n",
    "print(anova_results)\n",
    "\n",
    "\n",
    "# Combine soil and treatment into a single factor for comparison\n",
    "plant_growth_variables.loc[:, 'soil_treatment'] = plant_growth_variables['soil'].astype(str) + \" - \" + plant_growth_variables['treatment'].astype(str)\n",
    "\n",
    "# Perform Tukey's HSD\n",
    "tukey = pairwise_tukeyhsd(plant_growth_variables['shoot_length_cm'], plant_growth_variables['soil_treatment'])\n",
    "print(tukey)\n"
   ]
  },
  {
   "cell_type": "markdown",
   "id": "97fe9211-f023-4bcf-b74b-3dcbbdf001bd",
   "metadata": {},
   "source": [
    "## Spikelet Count Statistics"
   ]
  },
  {
   "cell_type": "code",
   "execution_count": null,
   "id": "f14c87a4-99b2-4910-8eab-2fc3c98b660a",
   "metadata": {},
   "outputs": [],
   "source": [
    "import statsmodels.formula.api as smf\n",
    "\n",
    "plant_growth_variables = all_plant_growth_df[['soil', 'treatment', 'num_spikelets']]\n",
    "print(plant_growth_variables)\n",
    "\n",
    "plant_growth_variables['soil'] = pd.Categorical(plant_growth_variables['soil'], categories=['Russell Ranch', 'Manteca'], ordered=False)\n",
    "plant_growth_variables['treatment'] = pd.Categorical(plant_growth_variables['treatment'], categories=['Control', 'Compost', 'Biochar-Compost'], ordered=False)\n",
    "\n",
    "\n",
    "model = smf.glm(formula=\"num_spikelets ~ soil + treatment\", \n",
    "                data=plant_growth_variables, \n",
    "                family=sm.families.Poisson()).fit()\n",
    "print(model.summary())\n",
    "\n",
    "pearson_chi2 = model.pearson_chi2\n",
    "df_residual = model.df_resid\n",
    "dispersion = pearson_chi2 / df_residual\n",
    "print(f\"Dispersion: {dispersion:.2f}\")  # If >1, consider Negative Binomial\n",
    "\n",
    "plant_growth_variables.loc[:, 'soil_treatment'] = plant_growth_variables['soil'].astype(str) + \" - \" + plant_growth_variables['treatment'].astype(str)\n",
    "\n",
    "# Perform Tukey's HSD\n",
    "tukey = pairwise_tukeyhsd(plant_growth_variables['num_spikelets'], plant_growth_variables['soil_treatment'])\n",
    "print(tukey)"
   ]
  },
  {
   "cell_type": "code",
   "execution_count": null,
   "id": "c3a9c742-c0f1-439c-9be8-06919e03d9fa",
   "metadata": {},
   "outputs": [],
   "source": [
    "import statsmodels.formula.api as smf\n",
    "from statsmodels.discrete.count_model import ZeroInflatedPoisson\n",
    "\n",
    "plant_growth_variables = all_plant_growth_df[['soil', 'treatment', 'num_spikelets']]\n",
    "print(plant_growth_variables)\n",
    "\n",
    "plant_growth_variables['soil'] = pd.Categorical(plant_growth_variables['soil'], categories=['Russell Ranch', 'Manteca'], ordered=False)\n",
    "plant_growth_variables['treatment'] = pd.Categorical(plant_growth_variables['treatment'], categories=['Control', 'Compost', 'Biochar-Compost'], ordered=False)\n",
    "\n",
    "\n",
    "zip_model = ZeroInflatedPoisson.from_formula(\n",
    "    \"num_spikelets ~ soil + treatment\",  # Main Poisson regression\n",
    "    data=plant_growth_variables\n",
    ").fit()\n",
    "\n",
    "print(zip_model.summary())\n",
    "\n",
    "mu = zip_model.predict()\n",
    "pearson_chi2 = ((plant_growth_variables[\"num_spikelets\"] - mu) ** 2 / mu).sum()\n",
    "dispersion_ratio = pearson_chi2 / (len(plant_growth_variables) - zip_model.df_model)\n",
    "print(\"Dispersion Ratio:\", dispersion_ratio)"
   ]
  },
  {
   "cell_type": "code",
   "execution_count": null,
   "id": "9675e835-20cc-401c-8e9f-8142e13deb27",
   "metadata": {},
   "outputs": [],
   "source": [
    "sns.histplot(end_chem_properties_df['pH'], kde=True, bins=10, color='blue')"
   ]
  },
  {
   "cell_type": "code",
   "execution_count": null,
   "id": "a51f56f2-b5f4-4d87-9280-68b3cd03cd38",
   "metadata": {},
   "outputs": [],
   "source": [
    "import scipy.stats as stats\n",
    "\n",
    "stats.probplot(end_chem_properties_df['pH'], dist=\"norm\", plot=plt)\n",
    "plt.show()"
   ]
  },
  {
   "cell_type": "code",
   "execution_count": null,
   "id": "b4e947f4-04fc-4f81-b770-d96b23975d0c",
   "metadata": {},
   "outputs": [],
   "source": [
    "import pandas as pd\n",
    "import scipy.stats as stats\n",
    "\n",
    "# Function to run Shapiro-Wilk test for each group\n",
    "def check_normality(data):\n",
    "    groups = data.groupby(['Soil', 'Treatment', 'Time'])\n",
    "    results = {}\n",
    "    for name, group in groups:\n",
    "        stat, p = stats.shapiro(group['pH'])  # Run Shapiro-Wilk test\n",
    "        results[name] = p\n",
    "    return pd.DataFrame.from_dict(results, orient='index', columns=['p-value'])\n",
    "\n",
    "# Apply function\n",
    "normality_results = check_normality(chem_properties_df)\n",
    "print(normality_results)"
   ]
  },
  {
   "cell_type": "markdown",
   "id": "0cf46e64-9afd-468b-912f-4025c96f7e6b",
   "metadata": {},
   "source": [
    "## This means that **normality is not violated**!!! (since p > 0.05)"
   ]
  },
  {
   "cell_type": "code",
   "execution_count": null,
   "id": "1be289c3-c58b-450e-8cb8-f6ebb98a77d2",
   "metadata": {},
   "outputs": [],
   "source": [
    "import pingouin as pg\n",
    "\n",
    "sphericity = pg.sphericity(chem_properties_df, dv='pH', within='Time', subject='Sample')\n",
    "print(sphericity)"
   ]
  },
  {
   "cell_type": "markdown",
   "id": "7d89893f-870e-497b-ac58-c90f5eab637d",
   "metadata": {},
   "source": [
    "# pH and EC measurements"
   ]
  },
  {
   "cell_type": "code",
   "execution_count": null,
   "id": "abbb00cb-4cfc-4460-a1e6-2b1aaf4d327a",
   "metadata": {},
   "outputs": [],
   "source": [
    "RR_chem_properties_df = Table().read_table('RR_Chemical_Properties.csv').to_df()\n",
    "\n",
    "Man_chem_properties_df = Table().read_table('Man_Chemical_Properties.csv').to_df()\n",
    "\n",
    "RR_chem_properties_df['category'] = RR_chem_properties_df['Soil'] + '_' + RR_chem_properties_df['Treatment']\n",
    "Man_chem_properties_df['category'] = Man_chem_properties_df['Soil'] + '_' + Man_chem_properties_df['Treatment']\n",
    "\n",
    "chem_properties_df = pd.concat([RR_chem_properties_df, Man_chem_properties_df])\n",
    "\n",
    "t0_chem_properties_df = chem_properties_df.where(chem_properties_df['Time'] == \"T0\").dropna()\n",
    "end_chem_properties_df = chem_properties_df.where(chem_properties_df['Time'] == \"end\").dropna()\n",
    "# RR_ph_averages_df = RR_chem_properties_df[['Treatment', 'pH', 'Time']]\n",
    "# RR_ph_averages_df.groupby(['Treatment', 'Time']).mean()\n",
    "# RR_ph_diffs_df = RR_ph_averages_df['Treatment']"
   ]
  },
  {
   "cell_type": "code",
   "execution_count": null,
   "id": "6ca1e2e8-609e-4ca9-bd17-2a7485c440ff",
   "metadata": {},
   "outputs": [],
   "source": [
    "t0_avg = t0_chem_properties_df.groupby('category')[['pH', 'EC (uS/cm)']].mean()\n",
    "t0_avg = t0_avg.rename(columns={'pH': 'Avg_T0_pH', 'EC (uS/cm)': 'Avg_T0_EC'})\n",
    "\n",
    "end_chem_properties_df = end_chem_properties_df.merge(t0_avg, on='category')\n",
    "end_chem_properties_df[\"delta_pH\"] = end_chem_properties_df[\"pH\"] - end_chem_properties_df[\"Avg_T0_pH\"]\n",
    "end_chem_properties_df[\"delta_EC\"] = end_chem_properties_df[\"EC (uS/cm)\"] - end_chem_properties_df[\"Avg_T0_EC\"]"
   ]
  },
  {
   "cell_type": "markdown",
   "id": "d7d2ee58-2443-4516-a1d6-87929cb332e9",
   "metadata": {},
   "source": [
    "## Check for normality"
   ]
  },
  {
   "cell_type": "code",
   "execution_count": null,
   "id": "cb9e7be2-a1e2-4ad0-adf4-85ac09dcd61f",
   "metadata": {},
   "outputs": [],
   "source": [
    "# Check normality assumption with Shapiro-Wilk test for each Soil-Treatment combination\n",
    "print(\"Normality Test (Shapiro-Wilk p-values)\")\n",
    "normality_data = {\"Soil\": [], \"Treatment\": [], \"p-value\": []}\n",
    "for (soil, treatment), group in end_chem_properties_df.groupby([\"Soil\", \"Treatment\"]):\n",
    "    stat, p_value = stats.shapiro(group[\"delta_pH\"])\n",
    "    normality_data['Soil'].append(soil)\n",
    "    normality_data['Treatment'].append(treatment)\n",
    "    normality_data['p-value'].append(p_value)\n",
    "\n",
    "print(pd.DataFrame(normality_data))"
   ]
  },
  {
   "cell_type": "markdown",
   "id": "42f82f23-8a90-4fd6-b2e1-0945f62451a4",
   "metadata": {},
   "source": [
    "The result above shows us that our data is normal. Across all of the p-values, we see that the data cannot reject the null hypothesis, and therefore shows normality."
   ]
  },
  {
   "cell_type": "markdown",
   "id": "851a48f4-b5b4-4755-80e7-b1906392e63f",
   "metadata": {},
   "source": [
    "## Check for Homogeneity of Variance using Bartlett's Test"
   ]
  },
  {
   "cell_type": "code",
   "execution_count": null,
   "id": "61a46dee-f8cb-4b64-8f2c-cf8a7023d81f",
   "metadata": {},
   "outputs": [],
   "source": [
    "# Check homogeneity of variance (Bartlett's test)\n",
    "bartlett_stat, bartlett_p = stats.bartlett(\n",
    "    *[group[\"delta_pH\"].values for _, group in end_chem_properties_df.groupby([\"Soil\", \"Treatment\"])]\n",
    ")\n",
    "print(f\"Bartlett's Test results in a p-value of {bartlett_p}\")"
   ]
  },
  {
   "cell_type": "markdown",
   "id": "fba23666-3fec-4aa0-9830-9a42f7ce8bed",
   "metadata": {},
   "source": [
    "Since this value is less than 0.05, we reject the null hypothesis, that the variances are similar. This means that we cannot follow a simple ANOVA procedure to calculate significance of our data. Instead, we will have to use an alternative strategy, like Welch's ANOVA. "
   ]
  },
  {
   "cell_type": "markdown",
   "id": "7a8ac9e6-dc0f-4ab6-a9a4-0d378a9de96d",
   "metadata": {},
   "source": [
    "## Conduct Welch's ANOVA"
   ]
  },
  {
   "cell_type": "code",
   "execution_count": null,
   "id": "85972969-378e-442d-a0be-1849c4ca7fd8",
   "metadata": {},
   "outputs": [],
   "source": [
    "import pingouin as pg\n",
    "welch_anova_results = pg.welch_anova(dv=\"delta_pH\", between=[\"Soil\", \"Treatment\"], data=end_chem_properties_df)"
   ]
  }
 ],
 "metadata": {
  "kernelspec": {
   "display_name": "Python 3",
   "language": "python",
   "name": "python3"
  },
  "language_info": {
   "codemirror_mode": {
    "name": "ipython",
    "version": 3
   },
   "file_extension": ".py",
   "mimetype": "text/x-python",
   "name": "python",
   "nbconvert_exporter": "python",
   "pygments_lexer": "ipython3",
   "version": "3.13.1"
  }
 },
 "nbformat": 4,
 "nbformat_minor": 5
}
