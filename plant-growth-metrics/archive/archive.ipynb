{
 "cells": [
  {
   "cell_type": "markdown",
   "id": "786c753b",
   "metadata": {},
   "source": [
    "# PREVIOUS WORK"
   ]
  },
  {
   "cell_type": "code",
   "execution_count": null,
   "id": "ee47f781",
   "metadata": {},
   "outputs": [],
   "source": [
    "import statsmodels.api as sm\n",
    "from statsmodels.formula.api import ols\n",
    "\n",
    "# Convert Table to pandas DataFrame\n",
    "RR_normalized_df = RR_normalized_plant_growth_df\n",
    "\n",
    "# Define your ANOVA model\n",
    "# Assuming 'shoot_length_cm' is the dependent variable and 'treatment' is the factor\n",
    "model_shoot_length = ols('shoot_length_cm ~ C(treatment) + C(soil) + C(treatment):C(soil)', data=plant_growth_df).fit()\n",
    "\n",
    "# Perform ANOVA\n",
    "anova_table_shoot_length = sm.stats.anova_lm(model_shoot_length, typ=2)\n",
    "\n",
    "# Display results\n",
    "print(\"ANOVA Table:\")\n",
    "print(anova_table_shoot_length)"
   ]
  },
  {
   "cell_type": "markdown",
   "id": "cae00f69",
   "metadata": {},
   "source": [
    "The ANOVA table indicates the following:\n",
    "\n",
    "Sum of Squares (sum_sq):\n",
    "\n",
    "C(treatment): The variation in shoot_length_cm explained by differences in the treatment groups (133.81).\n",
    "Residual: The unexplained variation or error (1103.76).\n",
    "Degrees of Freedom (df):\n",
    "\n",
    "C(treatment): 2 degrees of freedom (3 treatment groups - 1).\n",
    "Residual: 68 degrees of freedom (total observations - number of groups).\n",
    "F-statistic (F):\n",
    "\n",
    "The F-value (4.12) tests whether the variation among treatment group means is significantly greater than what would be expected by chance.\n",
    "p-value (PR(>F)):\n",
    "\n",
    "The p-value (0.020433) indicates the probability of observing this result, assuming the null hypothesis (no difference among treatment means) is true.\n",
    "Interpretation:\n",
    "Significance: The p-value is 0.020433, which is below the common threshold of 0.05. Therefore, you can reject the null hypothesis and conclude that there are statistically significant differences in shoot length among the treatment groups.\n",
    "Next Steps:\n",
    "Post-hoc Tests:\n",
    "\n",
    "Perform pairwise comparisons (e.g., Tukey's HSD) to identify which treatments differ significantly."
   ]
  },
  {
   "cell_type": "code",
   "execution_count": null,
   "id": "03d18aca",
   "metadata": {},
   "outputs": [],
   "source": [
    "from statsmodels.stats.multicomp import pairwise_tukeyhsd\n",
    "\n",
    "tukey_shoot_length = pairwise_tukeyhsd(endog=RR_normalized_df['shoot_length_cm'],\n",
    "                          groups=RR_normalized_df['treatment'],\n",
    "                          alpha=0.05)\n",
    "print(tukey_shoot_length)"
   ]
  },
  {
   "cell_type": "markdown",
   "id": "32a63614",
   "metadata": {},
   "source": [
    "Interpretation of Tukey's HSD Results\n",
    "Compost vs. Compost-Biochar:\n",
    "\n",
    "Mean Difference: 0.8075\n",
    "p-value (p-adj): 0.768\n",
    "Conclusion: There is no statistically significant difference between the Compost and Compost-Biochar treatments, as the p-value is greater than 0.05.\n",
    "Compost vs. Control:\n",
    "\n",
    "Mean Difference: 3.2336\n",
    "p-value (p-adj): 0.0191\n",
    "Conclusion: There is a statistically significant difference between the Compost and Control treatments, as the p-value is less than 0.05. The Compost treatment resulted in higher shoot length compared to the Control.\n",
    "Compost-Biochar vs. Control:\n",
    "\n",
    "Mean Difference: 2.4261\n",
    "p-value (p-adj): 0.11\n",
    "Conclusion: There is no statistically significant difference between the Compost-Biochar and Control treatments, as the p-value is greater than 0.05.\n",
    "Summary:\n",
    "The Compost treatment significantly increases shoot length compared to the Control.\n",
    "No significant differences were observed between Compost and Compost-Biochar or between Compost-Biochar and Control.\n"
   ]
  },
  {
   "cell_type": "code",
   "execution_count": null,
   "id": "76d4a57b",
   "metadata": {},
   "outputs": [],
   "source": [
    "#For seed survival\n",
    "model_seed_survival = ols('seed_survival_rate ~ C(treatment)', data=RR_normalized_df).fit()\n",
    "\n",
    "# Perform ANOVA\n",
    "anova_seed_survival = sm.stats.anova_lm(model_seed_survival, typ=2)\n",
    "\n",
    "# Display results\n",
    "print(\"ANOVA Table:\")\n",
    "print(anova_seed_survival)"
   ]
  },
  {
   "cell_type": "code",
   "execution_count": null,
   "id": "6c4a3c3f",
   "metadata": {},
   "outputs": [],
   "source": [
    "tukey_seed_survival = pairwise_tukeyhsd(endog=RR_normalized_df['seed_survival_rate'],\n",
    "                          groups=RR_normalized_df['treatment'],\n",
    "                          alpha=0.05)\n",
    "print(tukey_seed_survival)"
   ]
  },
  {
   "cell_type": "code",
   "execution_count": null,
   "id": "91c6ac84",
   "metadata": {},
   "outputs": [],
   "source": [
    "#Now for num_spikelets\n",
    "#For seed survival\n",
    "model_spikelets = ols('num_spikelets ~ C(treatment)', data=RR_normalized_df).fit()\n",
    "\n",
    "# Perform ANOVA\n",
    "anova_spikelets = sm.stats.anova_lm(model_spikelets, typ=2)\n",
    "\n",
    "# Display results\n",
    "print(\"ANOVA Table:\")\n",
    "print(anova_spikelets)"
   ]
  },
  {
   "cell_type": "code",
   "execution_count": null,
   "id": "38dad7fb",
   "metadata": {},
   "outputs": [],
   "source": [
    "tukey_spikelets = pairwise_tukeyhsd(endog=RR_normalized_df['num_spikelets'],\n",
    "                          groups=RR_normalized_df['treatment'],\n",
    "                          alpha=0.05)\n",
    "print(tukey_spikelets)"
   ]
  },
  {
   "cell_type": "code",
   "execution_count": null,
   "id": "12e86ae3",
   "metadata": {},
   "outputs": [],
   "source": [
    "#Now for root length\n",
    "model_root_length = ols('root_length_cm ~ C(treatment)', data=RR_normalized_df).fit()\n",
    "anova_root_length = sm.stats.anova_lm(model_root_length, typ=2)\n",
    "print(\"ANOVA Table:\")\n",
    "print(anova_root_length)"
   ]
  },
  {
   "cell_type": "code",
   "execution_count": null,
   "id": "36a1e6e8",
   "metadata": {},
   "outputs": [],
   "source": [
    "tukey_root_length = pairwise_tukeyhsd(endog=RR_normalized_df['root_length_cm'],\n",
    "                          groups=RR_normalized_df['treatment'],\n",
    "                          alpha=0.05)\n",
    "print(tukey_root_length)"
   ]
  },
  {
   "cell_type": "code",
   "execution_count": null,
   "id": "32eb7a12",
   "metadata": {},
   "outputs": [],
   "source": [
    "#Now for shoot_root_biomass_g\n",
    "model_shoot_root_biomass = ols('shoot_root_biomass_g ~ C(treatment)', data=RR_normalized_df).fit()\n",
    "anova_shoot_root_biomass = sm.stats.anova_lm(model_shoot_root_biomass, typ=2)\n",
    "print(\"ANOVA Table:\")\n",
    "print(anova_shoot_root_biomass)"
   ]
  },
  {
   "cell_type": "code",
   "execution_count": null,
   "id": "123e09f6",
   "metadata": {},
   "outputs": [],
   "source": [
    "tukey_shoot_root_biomass = pairwise_tukeyhsd(endog=RR_normalized_df['shoot_root_biomass_g'],\n",
    "                          groups=RR_normalized_df['treatment'],\n",
    "                          alpha=0.05)\n",
    "print(tukey_shoot_root_biomass)"
   ]
  },
  {
   "cell_type": "markdown",
   "id": "f567819a",
   "metadata": {},
   "source": [
    "---------------------"
   ]
  },
  {
   "cell_type": "markdown",
   "id": "5218014b",
   "metadata": {},
   "source": [
    "# Manteca - Plant Growth Metrics"
   ]
  },
  {
   "cell_type": "code",
   "execution_count": null,
   "id": "58cac82b",
   "metadata": {},
   "outputs": [],
   "source": [
    "Man_plant_growth_df = Table().read_table('Man_Plant_Growth_Metrics.csv')\n",
    "\n",
    "Man_normalized_plant_growth_df = Man_plant_growth_df.where('shoot_length_cm', are.above(0))"
   ]
  },
  {
   "cell_type": "code",
   "execution_count": null,
   "id": "f7470e5d",
   "metadata": {},
   "outputs": [],
   "source": [
    "# Convert Table to pandas DataFrame\n",
    "Man_normalized_df = Man_normalized_plant_growth_df.to_df()\n",
    "\n",
    "# Define your ANOVA model\n",
    "# Assuming 'shoot_length_cm' is the dependent variable and 'treatment' is the factor\n",
    "model_shoot_length = ols('shoot_length_cm ~ C(treatment)', data=Man_normalized_df).fit()\n",
    "\n",
    "# Perform ANOVA\n",
    "anova_table_shoot_length = sm.stats.anova_lm(model_shoot_length, typ=2)\n",
    "\n",
    "# Display results\n",
    "print(\"ANOVA Table:\")\n",
    "print(anova_table_shoot_length)"
   ]
  },
  {
   "cell_type": "code",
   "execution_count": null,
   "id": "15ba2b3d",
   "metadata": {},
   "outputs": [],
   "source": [
    "tukey_shoot_length = pairwise_tukeyhsd(endog=Man_normalized_df['shoot_length_cm'],\n",
    "                          groups=Man_normalized_df['treatment'],\n",
    "                          alpha=0.05)\n",
    "print(tukey_shoot_length)"
   ]
  },
  {
   "cell_type": "code",
   "execution_count": null,
   "id": "557bc916",
   "metadata": {},
   "outputs": [],
   "source": [
    "#For seed survival\n",
    "model_seed_survival = ols('seed_survival_rate ~ C(treatment)', data=Man_normalized_df).fit()\n",
    "\n",
    "# Perform ANOVA\n",
    "anova_seed_survival = sm.stats.anova_lm(model_seed_survival, typ=2)\n",
    "\n",
    "# Display results\n",
    "print(\"ANOVA Table:\")\n",
    "print(anova_seed_survival)"
   ]
  },
  {
   "cell_type": "code",
   "execution_count": null,
   "id": "cfacbb78",
   "metadata": {},
   "outputs": [],
   "source": [
    "tukey_seed_survival = pairwise_tukeyhsd(endog=Man_normalized_df['seed_survival_rate'],\n",
    "                          groups=Man_normalized_df['treatment'],\n",
    "                          alpha=0.05)\n",
    "print(tukey_seed_survival)"
   ]
  },
  {
   "cell_type": "code",
   "execution_count": null,
   "id": "0fe7e869",
   "metadata": {},
   "outputs": [],
   "source": [
    "#Now for num_spikelets\n",
    "#For seed survival\n",
    "model_spikelets = ols('num_spikelets ~ C(treatment)', data=Man_normalized_df).fit()\n",
    "\n",
    "# Perform ANOVA\n",
    "anova_spikelets = sm.stats.anova_lm(model_spikelets, typ=2)\n",
    "\n",
    "# Display results\n",
    "print(\"ANOVA Table:\")\n",
    "print(anova_spikelets)"
   ]
  },
  {
   "cell_type": "code",
   "execution_count": null,
   "id": "70c3506b",
   "metadata": {},
   "outputs": [],
   "source": [
    "## NO SPIKELETS!!!"
   ]
  },
  {
   "cell_type": "code",
   "execution_count": null,
   "id": "ea324c52",
   "metadata": {},
   "outputs": [],
   "source": [
    "#Now for root length\n",
    "model_root_length = ols('root_length_cm ~ C(treatment)', data=Man_normalized_df).fit()\n",
    "anova_root_length = sm.stats.anova_lm(model_root_length, typ=2)\n",
    "print(\"ANOVA Table:\")\n",
    "print(anova_root_length)"
   ]
  },
  {
   "cell_type": "code",
   "execution_count": null,
   "id": "f1a55919",
   "metadata": {},
   "outputs": [],
   "source": [
    "tukey_root_length = pairwise_tukeyhsd(endog=Man_normalized_df['root_length_cm'],\n",
    "                          groups=RR_normalized_df['treatment'],\n",
    "                          alpha=0.05)\n",
    "print(tukey_root_length)"
   ]
  },
  {
   "cell_type": "code",
   "execution_count": null,
   "id": "e5722cd2",
   "metadata": {},
   "outputs": [],
   "source": [
    "#Now for shoot_root_biomass_g\n",
    "model_shoot_root_biomass = ols('shoot_root_biomass_g ~ C(treatment)', data=Man_normalized_df).fit()\n",
    "anova_shoot_root_biomass = sm.stats.anova_lm(model_shoot_root_biomass, typ=2)\n",
    "print(\"ANOVA Table:\")\n",
    "print(anova_shoot_root_biomass)"
   ]
  },
  {
   "cell_type": "code",
   "execution_count": null,
   "id": "d7eeeb0e",
   "metadata": {},
   "outputs": [],
   "source": [
    "tukey_shoot_root_biomass = pairwise_tukeyhsd(endog=RR_normalized_df['shoot_root_biomass_g'],\n",
    "                          groups=RR_normalized_df['treatment'],\n",
    "                          alpha=0.05)\n",
    "print(tukey_shoot_root_biomass)"
   ]
  },
  {
   "cell_type": "markdown",
   "id": "8b666037",
   "metadata": {},
   "source": [
    "--------"
   ]
  },
  {
   "cell_type": "markdown",
   "id": "f2452332",
   "metadata": {},
   "source": [
    "# Russell Ranch - pH & EC"
   ]
  },
  {
   "cell_type": "code",
   "execution_count": null,
   "id": "a72ce1af",
   "metadata": {},
   "outputs": [],
   "source": [
    "RR_chem = Table().read_table('RR_Chemical_Properties.csv')\n",
    "\n",
    "RR_chem_df = RR_chem.to_df()\n",
    "\n",
    "# Separate T0 and End data\n",
    "RR_T0 = RR_chem_df[RR_chem_df[\"Sample\"].str.contains(\"T0\")]\n",
    "RR_end = RR_chem_df[RR_chem_df[\"Sample\"].str.contains(\"end\")]"
   ]
  },
  {
   "cell_type": "code",
   "execution_count": null,
   "id": "0289639c",
   "metadata": {},
   "outputs": [],
   "source": [
    "from scipy.stats import shapiro, levene\n",
    "\n",
    "# Normality test (Shapiro-Wilk)\n",
    "shapiro_T0_pH = shapiro(RR_T0[\"pH\"])[1]\n",
    "shapiro_end_pH = shapiro(RR_end[\"pH\"])[1]\n",
    "shapiro_T0_EC = shapiro(RR_T0[\"EC (uS/cm)\"])[1]\n",
    "shapiro_end_EC = shapiro(RR_end[\"EC (uS/cm)\"])[1]\n",
    "\n",
    "print(f\"Shapiro-Wilk p-values: T0 pH={shapiro_T0_pH}, End pH={shapiro_end_pH}\")\n",
    "print(f\"Shapiro-Wilk p-values: T0 EC={shapiro_T0_EC}, End EC={shapiro_end_EC}\")\n",
    "\n",
    "# Homogeneity of variance (Levene’s test)\n",
    "levene_pH = levene(RR_T0[\"pH\"], RR_end[\"pH\"])[1]\n",
    "levene_EC = levene(RR_T0[\"EC (uS/cm)\"], RR_end[\"EC (uS/cm)\"])[1]\n",
    "\n",
    "print(f\"Levene's test p-values: pH={levene_pH}, EC={levene_EC}\")"
   ]
  },
  {
   "cell_type": "markdown",
   "id": "a3e3749b",
   "metadata": {},
   "source": [
    "### non-normal because p>0.05 -> use non-parametric test"
   ]
  },
  {
   "cell_type": "code",
   "execution_count": null,
   "id": "7db53ba2",
   "metadata": {},
   "outputs": [],
   "source": [
    "from scipy.stats import mannwhitneyu\n",
    "\n",
    "u_pH, p_mwu_pH = mannwhitneyu(RR_T0[\"pH\"], RR_end[\"pH\"])\n",
    "u_EC, p_mwu_EC = mannwhitneyu(RR_T0[\"EC (uS/cm)\"], RR_end[\"EC (uS/cm)\"])\n",
    "\n",
    "print(f\"Mann-Whitney U test for pH: U={u_pH}, p={p_mwu_pH}\")\n",
    "print(f\"Mann-Whitney U test for EC: U={u_EC}, p={p_mwu_EC}\")"
   ]
  },
  {
   "cell_type": "code",
   "execution_count": null,
   "id": "d1f323df",
   "metadata": {},
   "outputs": [],
   "source": [
    "plt.figure(figsize=(10,5))\n",
    "sns.boxplot(x=[\"T0\"]*len(RR_T0) + [\"End\"]*len(RR_end), y=RR_T0[\"pH\"].tolist() + RR_end[\"pH\"].tolist())\n",
    "plt.title(\"pH Distribution at T0 and End\")\n",
    "plt.show()\n",
    "\n",
    "plt.figure(figsize=(10,5))\n",
    "sns.boxplot(x=[\"T0\"]*len(RR_T0) + [\"End\"]*len(RR_end), y=RR_T0[\"EC (uS/cm)\"].tolist() + RR_end[\"EC (uS/cm)\"].tolist())\n",
    "plt.title(\"EC Distribution at T0 and End\")\n",
    "plt.show()"
   ]
  },
  {
   "cell_type": "code",
   "execution_count": null,
   "id": "fdf9428b",
   "metadata": {},
   "outputs": [],
   "source": [
    "plt.figure(figsize=(10,5))\n",
    "sns.histplot(RR_T0[\"pH\"], kde=True, color=\"blue\", label=\"T0\", bins=10)\n",
    "sns.histplot(RR_end[\"pH\"], kde=True, color=\"red\", label=\"End\", bins=10)\n",
    "plt.legend()\n",
    "plt.title(\"pH Distribution: T0 vs End\")\n",
    "plt.show()\n",
    "\n",
    "plt.figure(figsize=(10,5))\n",
    "sns.histplot(RR_T0[\"EC (uS/cm)\"], kde=True, color=\"blue\", label=\"T0\", bins=10)\n",
    "sns.histplot(RR_end[\"EC (uS/cm)\"], kde=True, color=\"red\", label=\"End\", bins=10)\n",
    "plt.legend()\n",
    "plt.title(\"EC Distribution: T0 vs End\")\n",
    "plt.show()"
   ]
  },
  {
   "cell_type": "code",
   "execution_count": null,
   "id": "37b82b89",
   "metadata": {},
   "outputs": [],
   "source": [
    "plt.figure(figsize=(10,5))\n",
    "sns.scatterplot(x=RR_T0[\"pH\"], y=RR_T0[\"EC (uS/cm)\"], color=\"blue\", label=\"T0\")\n",
    "sns.scatterplot(x=RR_end[\"pH\"], y=RR_end[\"EC (uS/cm)\"], color=\"red\", label=\"End\")\n",
    "plt.title(\"pH vs. EC Scatter Plot: T0 vs End\")\n",
    "plt.xlabel(\"pH\")\n",
    "plt.ylabel(\"EC (uS/cm)\")\n",
    "plt.legend()\n",
    "plt.show()\n"
   ]
  },
  {
   "cell_type": "markdown",
   "id": "83d79c72",
   "metadata": {},
   "source": [
    "consider running tests separately for ec and ph!!!!!"
   ]
  },
  {
   "cell_type": "markdown",
   "id": "cf7eef7e",
   "metadata": {},
   "source": [
    "--------"
   ]
  },
  {
   "cell_type": "code",
   "execution_count": null,
   "id": "8c16f820",
   "metadata": {},
   "outputs": [],
   "source": [
    "# Manteca - pH & EC"
   ]
  }
 ],
 "metadata": {
  "language_info": {
   "name": "python"
  }
 },
 "nbformat": 4,
 "nbformat_minor": 5
}
